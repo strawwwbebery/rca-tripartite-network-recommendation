{
 "cells": [
  {
   "attachments": {},
   "cell_type": "markdown",
   "metadata": {},
   "source": [
    "#### 导入库"
   ]
  },
  {
   "cell_type": "code",
   "execution_count": 1,
   "metadata": {},
   "outputs": [],
   "source": [
    "import pandas as pd\n",
    "import numpy as np\n",
    "import os\n",
    "from scipy.stats import pearsonr\n",
    "from scipy.sparse import diags\n",
    "import matplotlib.pyplot as plt\n",
    "from tqdm import tqdm\n",
    "plt.rcParams['font.family'] = 'sans-serif'\n",
    "plt.rcParams['font.sans-serif'] = ['SimHei', 'Arial']\n",
    "\n",
    "program = pd.read_csv(r'trans_program.txt', sep='\\t') \n",
    "col = len(program)\n",
    "del program\n",
    "site = '1.1用户编码/'\n",
    "row = len(os.listdir(site))"
   ]
  },
  {
   "attachments": {},
   "cell_type": "markdown",
   "metadata": {},
   "source": [
    "#### 1)rca矩阵"
   ]
  },
  {
   "cell_type": "code",
   "execution_count": null,
   "metadata": {},
   "outputs": [],
   "source": [
    "def rca_matrix(threshhold):\n",
    "    weight3 = np.zeros((row, col))  # 行为用户，列为节目\n",
    "    weight4 = np.zeros((row, col))\n",
    "\n",
    "    df1 = pd.read_csv(r'2.1节目\\节目比例1.txt', sep='\\t')\n",
    "    df2 = pd.read_csv(r'2.1节目\\节目比例2.txt', sep='\\t')\n",
    "    site = '1.1用户编码/' \n",
    "    for file in os.listdir(site):\n",
    "        data = pd.read_csv(site+file, sep='\\t')  \n",
    "        # 训练集用户的RCA\n",
    "        data1 = data.loc[data['date'] == 1].copy()\n",
    "        if len(data1) > 0:     # 保证i有取值\n",
    "            data1['时间差'] = data1['时间差']/data1['时间差'].sum()\n",
    "            data1.rename(columns={'时间差': '时长占用户的比例'}, inplace=True)\n",
    "            data1 = pd.merge(data1, df1[['节目p','比例']], on='节目p')\n",
    "            data1['RCA'] = data1['时长占用户的比例']/ data1['比例']\n",
    "            i = int(data1.iloc[0,0])     \n",
    "            w1 = data1.loc[data1['RCA'] >= threshhold, '节目p'].to_numpy().astype(int)\n",
    "\n",
    "        # 测试集用户的RCA\n",
    "        data2 = data.loc[data['date'] == 2].copy()\n",
    "        del data\n",
    "        if len(data2) > 0:\n",
    "            data2['时间差'] = data2['时间差']/data2['时间差'].sum()\n",
    "            data2.rename(columns={'时间差': '时长占用户的比例'}, inplace=True)\n",
    "            data2 = pd.merge(data2, df2[['节目p','比例']], on='节目p')\n",
    "            data2['RCA'] = data2['时长占用户的比例']/ data2['比例']\n",
    "            w2 = data2.loc[data2['RCA'] >= threshhold, '节目p'].to_numpy().astype(int)\n",
    "\n",
    "        weight3 [i,w1] = 1     # i和w1需要是整数\n",
    "        weight4 [i,w2] = 1\n",
    "    return weight3,weight4\n",
    "weight3,weight4 = rca_matrix(1)"
   ]
  },
  {
   "attachments": {},
   "cell_type": "markdown",
   "metadata": {},
   "source": [
    "#### 2)B 频道矩阵"
   ]
  },
  {
   "cell_type": "code",
   "execution_count": 2,
   "metadata": {},
   "outputs": [],
   "source": [
    "data = pd.read_csv(r'trans_program.txt', sep='\\t')  \n",
    "data['节目p'] = data.index\n",
    "data = data[['频道编码','节目p']]  #195个频道,12489个节目\n",
    "data = data.sort_values(by = '频道编码')\n",
    "# B 行为频道，列为节目\n",
    "B = np.zeros((len(data['频道编码'].unique()), len(data['节目p'].unique())))\n",
    "for i, group in data.groupby('频道编码'):\n",
    "    w = group['节目p'].to_numpy().astype(int)\n",
    "    B[i,w] = 1    # B: L*M, A: N*M"
   ]
  },
  {
   "attachments": {},
   "cell_type": "markdown",
   "metadata": {},
   "source": [
    "#### 物质扩散NBI"
   ]
  },
  {
   "cell_type": "code",
   "execution_count": null,
   "metadata": {},
   "outputs": [],
   "source": [
    "# 物质扩散，计算矩阵得分\n",
    "def mass_diffusion_origin(B):\n",
    "    N, M = B.shape\n",
    "    kN = np.sum(B, axis=1)\n",
    "    kM = np.sum(B, axis=0)\n",
    "    B1 = B.T\n",
    "    use1 = np.zeros(N)\n",
    "    use1[kN != 0] = 1.0 / kN[kN != 0]\n",
    "    temp = diags(use1, 0, (N, N)).toarray()   # diag为稀疏矩阵\n",
    "    B1 = B1.dot(temp)\n",
    "    B2 = B.copy()\n",
    "    use2 = np.zeros(M)\n",
    "    use2[kM != 0] = 1.0 / kM[kM != 0]\n",
    "    temp = diags(use2, 0, (M, M)).toarray()\n",
    "    B2 = B2.dot(temp)\n",
    "    return B1, B2\n",
    "\n",
    "# 计算S1\n",
    "A1, A2 = mass_diffusion_origin(weight3)\n",
    "S1 = np.dot(np.dot(weight3, A2.T), A1.T)  \n",
    "del A1, A2\n",
    "B1, B2 = mass_diffusion_origin(B)\n",
    "S2 = np.dot(np.dot(weight3, B2.T), B1.T) \n",
    "del B1, B2"
   ]
  },
  {
   "attachments": {},
   "cell_type": "markdown",
   "metadata": {},
   "source": [
    "#### 协同过滤CF"
   ]
  },
  {
   "cell_type": "code",
   "execution_count": null,
   "metadata": {},
   "outputs": [],
   "source": [
    "# 协同过滤，计算矩阵得分\n",
    "def collaborate_filter(B):\n",
    "    intersection = (B.T).dot(B)\n",
    "    union = B.shape[0] - (1-B.T).dot(1-B)\n",
    "    S = intersection/union\n",
    "    return S\n",
    "\n",
    "# 计算S1,S2\n",
    "S1= collaborate_filter(weight3)\n",
    "S1 = weight3.dot(S1)\n",
    "S2 = collaborate_filter(B)\n",
    "S2 = weight3.dot(S2)"
   ]
  },
  {
   "attachments": {},
   "cell_type": "markdown",
   "metadata": {},
   "source": [
    "#### 计算rs"
   ]
  },
  {
   "cell_type": "code",
   "execution_count": 4,
   "metadata": {},
   "outputs": [],
   "source": [
    "def ranking_score_time_mass(weight3,weight4,B,alpha): \n",
    "    S = S1 + alpha*S2\n",
    "    # 计算ranking score\n",
    "    ranking_score = np.array([])\n",
    "    dlt = np.array([])   # 需要删除的索引\n",
    "    for i in range(weight3.shape[0]):    # 遍历每个用户\n",
    "        a = S[i][weight3[i] == 0]     # 零位置的得分，一维ndarray\n",
    "        b = weight4[i][weight3[i]== 0]   # 零位置的真实观看情况，0和1\n",
    "        if not np.all(b == 0):          \n",
    "            sorted_indices = np.argsort(a)[::-1]\n",
    "            a = a[sorted_indices]            # 得分从大到小排列\n",
    "            b = b[sorted_indices]            # 观看情况0、1重排\n",
    "            a = (np.arange(len(a))+1)/len(a) # 计算每个元素所在的排序/元素总数\n",
    "            a = a[b != 0]                    # 实际观看节目 其得分的ndarray\n",
    "            ranking_score = np.append(ranking_score, np.mean(a))\n",
    "        else:\n",
    "            dlt = np.append(dlt,i)\n",
    "    ranking_score_mean = np.mean(ranking_score)\n",
    "    return ranking_score_mean       "
   ]
  },
  {
   "attachments": {},
   "cell_type": "markdown",
   "metadata": {},
   "source": [
    "#### 不同α"
   ]
  },
  {
   "cell_type": "code",
   "execution_count": 5,
   "metadata": {},
   "outputs": [],
   "source": [
    "def alpha(num):\n",
    "    rs = ranking_score_time_mass(weight3,weight4,B,num)\n",
    "    data = pd.DataFrame([[num, rs]],columns=['alpha', 'rs'])\n",
    "    with open('结果.txt', 'a',encoding='utf-8',newline='') as file:\n",
    "        data.to_csv(file, header=file.tell()==0, sep='\\t', index=False)\n",
    "    file.close()\n",
    "alpha(2)\n",
    "alpha(1.8)\n",
    "alpha(1.6)\n",
    "alpha(1.4)\n",
    "alpha(1.2)\n",
    "alpha(1)\n",
    "alpha(0.8)\n",
    "alpha(0.6)\n",
    "alpha(0.4)\n",
    "alpha(0.2)\n",
    "alpha(0)"
   ]
  }
 ],
 "metadata": {
  "kernelspec": {
   "display_name": "base",
   "language": "python",
   "name": "python3"
  },
  "language_info": {
   "codemirror_mode": {
    "name": "ipython",
    "version": 3
   },
   "file_extension": ".py",
   "mimetype": "text/x-python",
   "name": "python",
   "nbconvert_exporter": "python",
   "pygments_lexer": "ipython3",
   "version": "3.7.3 (default, Apr 24 2019, 15:29:51) [MSC v.1915 64 bit (AMD64)]"
  },
  "orig_nbformat": 4,
  "vscode": {
   "interpreter": {
    "hash": "ad2bdc8ecc057115af97d19610ffacc2b4e99fae6737bb82f5d7fb13d2f2c186"
   }
  }
 },
 "nbformat": 4,
 "nbformat_minor": 2
}
